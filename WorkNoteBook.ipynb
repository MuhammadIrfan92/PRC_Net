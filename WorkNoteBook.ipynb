{
 "cells": [
  {
   "cell_type": "code",
   "execution_count": null,
   "metadata": {},
   "outputs": [],
   "source": [
    "import tensorflow\n",
    "from tensorflow.keras.utils import normalize, to_categorical, set_random_seed as keras_set_random_seed\n",
    "from tqdm import tqdm\n",
    "from sklearn.model_selection import train_test_split\n",
    "from sklearn.preprocessing import LabelEncoder\n",
    "from sklearn.metrics import roc_auc_score\n",
    "from tensorflow.keras.callbacks import ModelCheckpoint, ReduceLROnPlateau, EarlyStopping\n",
    "\n",
    "\n",
    "from .model import PRC_Net\n",
    "from .Utils.load_train_data import *\n",
    "from .Utils.loss import ccfl_dice\n"
   ]
  },
  {
   "cell_type": "code",
   "execution_count": null,
   "metadata": {},
   "outputs": [],
   "source": [
    "channel = 'RGBNIRRE'\n",
    "batch_size = 6\n",
    "image_size = 320 \n",
    "epoch_nums = 142\n",
    "patience = 63\n",
    "n_classes = 3\n",
    "aug_degree = 2\n",
    "augs = [1,2]\n",
    "aug_s = '12'\n",
    "l2_reg = 0.0 \n",
    "patience_lr = 30\n",
    "factor_lr = 0.5"
   ]
  },
  {
   "cell_type": "code",
   "execution_count": null,
   "metadata": {},
   "outputs": [],
   "source": [
    "train_images = load_train_image_arrays_selective_augs(image_size=image_size, dir_path=\"PATH_TO_IMG_DIR\", augs = augs)\n",
    "train_masks = load_train_masks_selective_augs(image_size=image_size, dir_path='PATH_TO_MASK_DIR', augs = augs)"
   ]
  },
  {
   "cell_type": "code",
   "execution_count": null,
   "metadata": {},
   "outputs": [],
   "source": [
    "labelencoder = LabelEncoder()\n",
    "n, h, w = train_masks.shape\n",
    "train_masks_reshaped = train_masks.reshape(-1,1)\n",
    "train_masks_reshaped_encoded = labelencoder.fit_transform(train_masks_reshaped)\n",
    "train_masks_encoded_original_shape = train_masks_reshaped_encoded.reshape(n, h, w)\n",
    "np.unique(train_masks_encoded_original_shape)\n",
    "train_images = normalize(train_images, axis=-1)\n",
    "train_masks_input = np.expand_dims(train_masks_encoded_original_shape, axis=3)\n",
    "X_train, X_val, y_train, y_val = train_test_split(train_images, train_masks_input, test_size = 0.2, random_state = 0)\n",
    "train_masks_cat = to_categorical(y_train, num_classes=n_classes)\n",
    "y_train_cat = train_masks_cat.reshape((y_train.shape[0], y_train.shape[1], y_train.shape[2], n_classes))\n",
    "val_masks_cat = to_categorical(y_val, num_classes=n_classes)\n",
    "y_val_cat = val_masks_cat.reshape((y_val.shape[0], y_val.shape[1], y_val.shape[2], n_classes))"
   ]
  },
  {
   "cell_type": "code",
   "execution_count": null,
   "metadata": {},
   "outputs": [],
   "source": [
    "model =PRC_Net(n_classes=n_classes, IMG_HEIGHT=X_train.shape[1], IMG_WIDTH=X_train.shape[2], IMG_CHANNELS=X_train.shape[3], dropout_rate=0.0, l2_reg=l2_reg)\n",
    "model.compile(optimizer='adam', loss=ccfl_dice, metrics=['accuracy', tensorflow.keras.metrics.AUC(name='auc')]) \n",
    "model.summary()"
   ]
  },
  {
   "cell_type": "code",
   "execution_count": null,
   "metadata": {},
   "outputs": [],
   "source": [
    "\n",
    "callbacks = [\n",
    "    EarlyStopping(patience=patience, monitor='val_loss'),\n",
    "    ModelCheckpoint(filepath, monitor='val_loss', verbose=1, save_best_only=True, mode='min'),\n",
    "    ReduceLROnPlateau(monitor='val_loss', factor=factor_lr, patience=patience_lr, min_lr=1e-6)\n",
    "]\n",
    "\n",
    "history = model.fit(X_train, y_train_cat, \n",
    "                    batch_size = batch_size, \n",
    "                    verbose=1, \n",
    "                    epochs=epoch_nums, \n",
    "                    validation_data=(X_val, y_val_cat), \n",
    "                    shuffle=False,\n",
    "                    callbacks=callbacks)"
   ]
  }
 ],
 "metadata": {
  "language_info": {
   "name": "python"
  }
 },
 "nbformat": 4,
 "nbformat_minor": 2
}
