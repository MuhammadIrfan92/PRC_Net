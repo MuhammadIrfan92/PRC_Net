{
 "cells": [
  {
   "cell_type": "code",
   "execution_count": null,
   "id": "55fa9527",
   "metadata": {},
   "outputs": [],
   "source": [
    "import os\n",
    "from tqdm import tqdm\n",
    "import shutil\n",
    "import numpy as np"
   ]
  },
  {
   "cell_type": "markdown",
   "id": "ac8b68c2",
   "metadata": {},
   "source": [
    "## Preprocessing RedEdge"
   ]
  },
  {
   "cell_type": "code",
   "execution_count": null,
   "id": "4bdfaf74",
   "metadata": {},
   "outputs": [],
   "source": [
    "def merge_channels_from_all_subsets(subsets, src_dir. dest_dir, channels):\n",
    "    # For every subset\n",
    "    for subset in tqdm(subsets):\n",
    "        s_src_dir = os.path.join(src_dir, subset)\n",
    "        # For every channel in each subset\n",
    "        for channel in os.listdir(s_src_dir):\n",
    "            if channel in channels:\n",
    "                channel_dest_dir = os.path.join(dest_dir, channel)\n",
    "\n",
    "                try: # create the directory if not created already\n",
    "                    os.mkdir(channel_dest_dir)\n",
    "                except:\n",
    "                    pass\n",
    "                channel_src_dir = os.path.join(src_dir, channel)\n",
    "                print(f\"Files to copy {len(os.listdir(channel_src_dir))}\")\n",
    "                # Copy every file\n",
    "                for img in os.listdir(channel_src_dir):\n",
    "                    new_img = f\"{subset}_\"+img\n",
    "                    img_src_path = os.path.join(channel_src_dir, img)\n",
    "                    img_dest_path = os.path.join(channel_dest_dir, new_img)\n",
    "                    shutil.copy(img_src_path, img_dest_path)"
   ]
  },
  {
   "cell_type": "markdown",
   "id": "0b73be40",
   "metadata": {},
   "source": [
    "### For Training set"
   ]
  },
  {
   "cell_type": "code",
   "execution_count": null,
   "id": "53916b89",
   "metadata": {},
   "outputs": [],
   "source": [
    "def rededge_merge_channels_and_save(r_dir, g_dir, b_dir, nir_dir, re_dir, output_dir):\n",
    "    # Create output directory if it doesn't exist\n",
    "    if not os.path.exists(output_dir):\n",
    "        os.makedirs(output_dir)\n",
    "    \n",
    "    # List all files in the R directory (assuming other directories have the same file names)\n",
    "    r_files = os.listdir(r_dir)\n",
    "    \n",
    "    for file_name in tqdm(r_files):\n",
    "        # Construct the full paths to the R, G, B, NIR, and RE images\n",
    "        r_path = os.path.join(r_dir, file_name)\n",
    "        g_path = os.path.join(g_dir, file_name)\n",
    "        b_path = os.path.join(b_dir, file_name)\n",
    "        nir_path = os.path.join(nir_dir, file_name)\n",
    "        re_path = os.path.join(re_dir, file_name)\n",
    "        \n",
    "        # Open the images\n",
    "        r_image = Image.open(r_path)\n",
    "        g_image = Image.open(g_path)\n",
    "        b_image = Image.open(b_path)\n",
    "        nir_image = Image.open(nir_path)\n",
    "        re_image = Image.open(re_path)\n",
    "        \n",
    "        # Convert the images to numpy arrays\n",
    "        r_array = np.array(r_image)\n",
    "        g_array = np.array(g_image)\n",
    "        b_array = np.array(b_image)\n",
    "        nir_array = np.array(nir_image)\n",
    "        re_array = np.array(re_image)\n",
    "        \n",
    "        # Stack the arrays along a new dimension to create a 5-channel image\n",
    "        merged_array = np.stack((r_array, g_array, b_array, nir_array, re_array), axis=-1)\n",
    "        \n",
    "        # Save the merged array as a .npy file\n",
    "        output_path = os.path.join(output_dir, os.path.splitext(file_name)[0] + '.npy')\n",
    "        np.save(output_path, merged_array)"
   ]
  },
  {
   "cell_type": "markdown",
   "id": "0ccb5c2b",
   "metadata": {},
   "source": [
    "1. Merging 'R', 'G', 'B', 'NIR', 'RE' channels from each training subset '000', '001', '002', '004'"
   ]
  },
  {
   "cell_type": "code",
   "execution_count": null,
   "id": "046bc221",
   "metadata": {},
   "outputs": [],
   "source": [
    "# for trainset\n",
    "subsets = ['000', '001', '002', '004']\n",
    "channels = ['R', 'G', 'B', 'NIR', 'RE']\n",
    "\n",
    "dest_dir = \"2018-weedMap-dataset-release/2018-weedMap-dataset-release/Tiles/RedEdge/Trainset-Multi\"\n",
    "src_dir = f\"/2018-weedMap-dataset-release/2018-weedMap-dataset-release/Tiles/RedEdge/\"\n",
    "\n",
    "merge_channels_from_all_subsets(subsets, src_dir, dest_dir, channels)\n",
    "    "
   ]
  },
  {
   "cell_type": "markdown",
   "id": "b2eeb372",
   "metadata": {},
   "source": [
    "2. Merging All Channels"
   ]
  },
  {
   "cell_type": "code",
   "execution_count": null,
   "id": "615e76af",
   "metadata": {},
   "outputs": [],
   "source": [
    "r_directory = '/2018-weedMap-dataset-release/2018-weedMap-dataset-release/Tiles/RedEdge/Trainset-Multi/R'\n",
    "g_directory = '/2018-weedMap-dataset-release/2018-weedMap-dataset-release/Tiles/RedEdge/Trainset-Multi/G'\n",
    "b_directory = '/2018-weedMap-dataset-release/2018-weedMap-dataset-release/Tiles/RedEdge/Trainset-Multi/B'\n",
    "nir_directory = '/2018-weedMap-dataset-release/2018-weedMap-dataset-release/Tiles/RedEdge/Trainset-Multi/NIR'\n",
    "re_directory = '/2018-weedMap-dataset-release/2018-weedMap-dataset-release/Tiles/RedEdge/Trainset-Multi/RE'\n",
    "output_directory = '/2018-weedMap-dataset-release/2018-weedMap-dataset-release/Tiles/RedEdge/Trainset-Multi/RGBNIRRE'\n",
    "\n",
    "# Call the function to merge channels and save as .npy files\n",
    "rededge_merge_channels_and_save(r_directory, g_directory, b_directory, nir_directory, re_directory, output_directory)"
   ]
  },
  {
   "cell_type": "markdown",
   "id": "1b9bebb0",
   "metadata": {},
   "source": [
    "### For Testset"
   ]
  },
  {
   "cell_type": "markdown",
   "id": "1e6127c8",
   "metadata": {},
   "source": [
    "1. Merging 'R', 'G', 'B', 'NIR', 'RE' channels from each training subset '003' testset"
   ]
  },
  {
   "cell_type": "code",
   "execution_count": null,
   "id": "5c4d1c5d",
   "metadata": {},
   "outputs": [],
   "source": [
    "# for trainset\n",
    "subsets = ['003']\n",
    "channels = ['R', 'G', 'B', 'NIR', 'RE']\n",
    "\n",
    "dest_dir = \"2018-weedMap-dataset-release/2018-weedMap-dataset-release/Tiles/RedEdge/Testset-Multi\"\n",
    "src_dir = f\"/2018-weedMap-dataset-release/2018-weedMap-dataset-release/Tiles/RedEdge/\"\n",
    "\n",
    "merge_channels_from_all_subsets(subsets, src_dir, dest_dir, channels)"
   ]
  },
  {
   "cell_type": "markdown",
   "id": "dd8971b5",
   "metadata": {},
   "source": [
    "2. Merging All channels"
   ]
  },
  {
   "cell_type": "code",
   "execution_count": null,
   "id": "055cef52",
   "metadata": {},
   "outputs": [],
   "source": [
    "r_directory = '/2018-weedMap-dataset-release/2018-weedMap-dataset-release/Tiles/RedEdge/Testset-Multi/R'\n",
    "g_directory = '/2018-weedMap-dataset-release/2018-weedMap-dataset-release/Tiles/RedEdge/Testset-Multi/G'\n",
    "b_directory = '/2018-weedMap-dataset-release/2018-weedMap-dataset-release/Tiles/RedEdge/Testset-Multi/B'\n",
    "nir_directory = '/2018-weedMap-dataset-release/2018-weedMap-dataset-release/Tiles/RedEdge/Testset-Multi/NIR'\n",
    "re_directory = '/2018-weedMap-dataset-release/2018-weedMap-dataset-release/Tiles/RedEdge/Testset-Multi/RE'\n",
    "output_directory = '/2018-weedMap-dataset-release/2018-weedMap-dataset-release/Tiles/RedEdge/Testset-Multi/RGBNIRRE'\n",
    "\n",
    "# Call the function to merge channels and save as .npy files\n",
    "rededge_merge_channels_and_save(r_directory, g_directory, b_directory, nir_directory, re_directory, output_directory)"
   ]
  },
  {
   "cell_type": "markdown",
   "id": "674788c6",
   "metadata": {},
   "source": [
    "## Preprocessing Sequoia"
   ]
  },
  {
   "cell_type": "code",
   "execution_count": null,
   "id": "6068f332",
   "metadata": {},
   "outputs": [],
   "source": [
    "def sequoia_merge_channels_and_save(r_dir, g_dir, nir_dir, re_dir, output_dir):\n",
    "    # Create output directory if it doesn't exist\n",
    "    if not os.path.exists(output_dir):\n",
    "        os.makedirs(output_dir)\n",
    "    \n",
    "    # List all files in the R directory (assuming other directories have the same file names)\n",
    "    r_files = os.listdir(r_dir)\n",
    "    \n",
    "    for file_name in tqdm(r_files):\n",
    "        # Construct the full paths to the R, G, B, NIR, and RE images\n",
    "        r_path = os.path.join(r_dir, file_name)\n",
    "        g_path = os.path.join(g_dir, file_name)\n",
    "        nir_path = os.path.join(nir_dir, file_name)\n",
    "        re_path = os.path.join(re_dir, file_name)\n",
    "        \n",
    "        # Open the images\n",
    "        r_image = Image.open(r_path)\n",
    "        g_image = Image.open(g_path)\n",
    "        nir_image = Image.open(nir_path)\n",
    "        re_image = Image.open(re_path)\n",
    "        \n",
    "        # Convert the images to numpy arrays\n",
    "        r_array = np.array(r_image)\n",
    "        g_array = np.array(g_image)\n",
    "        nir_array = np.array(nir_image)\n",
    "        re_array = np.array(re_image)\n",
    "        \n",
    "        # Stack the arrays along a new dimension to create a 4-channel image\n",
    "        merged_array = np.stack((r_array, g_array, nir_array, re_array), axis=-1)\n",
    "        \n",
    "        # Save the merged array as a .npy file\n",
    "        output_path = os.path.join(output_dir, os.path.splitext(file_name)[0] + '.npy')\n",
    "        np.save(output_path, merged_array)"
   ]
  },
  {
   "cell_type": "markdown",
   "id": "8e59cbf1",
   "metadata": {},
   "source": [
    "### For Trainset"
   ]
  },
  {
   "cell_type": "markdown",
   "id": "b147f60e",
   "metadata": {},
   "source": [
    "1. Merging 'R', 'G', 'NIR', 'RE' channels from each training subset '006', '007'"
   ]
  },
  {
   "cell_type": "code",
   "execution_count": null,
   "id": "fa8596fb",
   "metadata": {},
   "outputs": [],
   "source": [
    "\n",
    "subsets = ['006', '007']\n",
    "channels = ['R', 'G', 'NIR', 'RE']\n",
    "\n",
    "dest_dir = \"2018-weedMap-dataset-release/2018-weedMap-dataset-release/Tiles/Sequoia/Trainset-Multi\"\n",
    "src_dir = f\"/2018-weedMap-dataset-release/2018-weedMap-dataset-release/Tiles/Sequoia/\"\n",
    "\n",
    "merge_channels_from_all_subsets(subsets, src_dir, dest_dir, channels)"
   ]
  },
  {
   "cell_type": "markdown",
   "id": "474c978c",
   "metadata": {},
   "source": [
    "2. Merging All Channels"
   ]
  },
  {
   "cell_type": "code",
   "execution_count": null,
   "id": "9cf491c8",
   "metadata": {},
   "outputs": [],
   "source": [
    "r_directory = '/2018-weedMap-dataset-release/2018-weedMap-dataset-release/Tiles/Sequoia/Trainset-Multi/R'\n",
    "g_directory = '/2018-weedMap-dataset-release/2018-weedMap-dataset-release/Tiles/Sequoia/Trainset-Multi/G'\n",
    "nir_directory = '/2018-weedMap-dataset-release/2018-weedMap-dataset-release/Tiles/Sequoia/Trainset-Multi/NIR'\n",
    "re_directory = '/2018-weedMap-dataset-release/2018-weedMap-dataset-release/Tiles/Sequoia/Trainset-Multi/RE'\n",
    "output_directory = '/2018-weedMap-dataset-release/2018-weedMap-dataset-release/Tiles/Sequoia/Trainset-Multi/RGBNIRRE'\n",
    "\n",
    "# Call the function to merge channels and save as .npy files\n",
    "sequoia_merge_channels_and_save(r_directory, g_directory, nir_directory, re_directory, output_directory)"
   ]
  },
  {
   "cell_type": "markdown",
   "id": "0d742e81",
   "metadata": {},
   "source": [
    "### For Testset"
   ]
  },
  {
   "cell_type": "markdown",
   "id": "4e04952e",
   "metadata": {},
   "source": [
    "1. Merging 'R', 'G', 'NIR', 'RE' channels from each training subset '005'"
   ]
  },
  {
   "cell_type": "code",
   "execution_count": null,
   "id": "0bdfc324",
   "metadata": {},
   "outputs": [],
   "source": [
    "\n",
    "subsets = ['005']\n",
    "channels = ['R', 'G', 'NIR', 'RE']\n",
    "\n",
    "dest_dir = \"2018-weedMap-dataset-release/2018-weedMap-dataset-release/Tiles/Sequoia/Testset-Multi\"\n",
    "src_dir = f\"/2018-weedMap-dataset-release/2018-weedMap-dataset-release/Tiles/Sequoia/\"\n",
    "\n",
    "merge_channels_from_all_subsets(subsets, src_dir, dest_dir, channels)"
   ]
  },
  {
   "cell_type": "markdown",
   "id": "7c6790c1",
   "metadata": {},
   "source": [
    "2. Merging all channels"
   ]
  },
  {
   "cell_type": "code",
   "execution_count": null,
   "id": "d80cd6ea",
   "metadata": {},
   "outputs": [],
   "source": [
    "r_directory = '/2018-weedMap-dataset-release/2018-weedMap-dataset-release/Tiles/Sequoia/Testset-Multi/R'\n",
    "g_directory = '/2018-weedMap-dataset-release/2018-weedMap-dataset-release/Tiles/Sequoia/Testset-Multi/G'\n",
    "nir_directory = '/2018-weedMap-dataset-release/2018-weedMap-dataset-release/Tiles/Sequoia/Testset-Multi/NIR'\n",
    "re_directory = '/2018-weedMap-dataset-release/2018-weedMap-dataset-release/Tiles/Sequoia/Testset-Multi/RE'\n",
    "output_directory = '/2018-weedMap-dataset-release/2018-weedMap-dataset-release/Tiles/Sequoia/Testset-Multi/RGBNIRRE'\n",
    "\n",
    "# Call the function to merge channels and save as .npy files\n",
    "sequoia_merge_channels_and_save(r_directory, g_directory, nir_directory, re_directory, output_directory)"
   ]
  }
 ],
 "metadata": {
  "language_info": {
   "name": "python"
  }
 },
 "nbformat": 4,
 "nbformat_minor": 5
}
